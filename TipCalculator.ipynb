{
 "cells": [
  {
   "cell_type": "code",
   "execution_count": 1,
   "id": "73a2982f-4f5d-45b2-84dd-a716a9cd5e69",
   "metadata": {},
   "outputs": [
    {
     "name": "stdout",
     "output_type": "stream",
     "text": [
      "Hello Kelly, Welcome to Mali Caffe!\n",
      "Tip = $90.00\n",
      "Sales tax = $35.00\n",
      "Grand total = $625.00\n"
     ]
    }
   ],
   "source": [
    "#Welcome user\n",
    "name = input(\"Enter Customer name: \")\n",
    "print('Hello', name + ', Welcome to Mali Caffe!')\n",
    "# Get the charge for the food from the user\n",
    "food_charge = float(input(\"Enter the charge for the food: $\"))\n",
    "\n",
    "# Calculate the tip and sales tax amounts\n",
    "tip_amount = 0.18 * food_charge\n",
    "sales_tax = 0.07 * food_charge\n",
    "\n",
    "# Calculate the grand total\n",
    "grand_total = food_charge + tip_amount + sales_tax\n",
    "\n",
    "# Display the tip, sales tax, and grand total amounts\n",
    "print(f\"Tip = ${tip_amount:.2f}\")\n",
    "print(f\"Sales tax = ${sales_tax:.2f}\")\n",
    "print(f\"Grand total = ${grand_total:.2f}\")"
   ]
  },
  {
   "cell_type": "code",
   "execution_count": null,
   "id": "efa2c264-023a-4aa3-bd18-028e71ddf670",
   "metadata": {},
   "outputs": [],
   "source": []
  }
 ],
 "metadata": {
  "kernelspec": {
   "display_name": "Python 3",
   "language": "python",
   "name": "python3"
  },
  "language_info": {
   "codemirror_mode": {
    "name": "ipython",
    "version": 3
   },
   "file_extension": ".py",
   "mimetype": "text/x-python",
   "name": "python",
   "nbconvert_exporter": "python",
   "pygments_lexer": "ipython3",
   "version": "3.10.11"
  }
 },
 "nbformat": 4,
 "nbformat_minor": 5
}
